{
 "cells": [
  {
   "cell_type": "markdown",
   "metadata": {},
   "source": [
    "Ada dua, \n",
    "1. Inheritance\n",
    "2. Polymorphism."
   ]
  },
  {
   "cell_type": "markdown",
   "metadata": {},
   "source": [
    "### Inheritance"
   ]
  },
  {
   "cell_type": "markdown",
   "metadata": {},
   "source": [
    "Class turunan dari base class. Manfaat penting dari pewarisan adalah penggunaan kembali kode dan pengurangan kompleksitas program. Kelas turunan (keturunan) mengesampingkan atau memperluas fungsionalitas kelas dasar (nenek moyang)."
   ]
  },
  {
   "cell_type": "code",
   "execution_count": null,
   "metadata": {},
   "outputs": [],
   "source": [
    "# anggap ini base class\n",
    "class School():\n",
    "    pass\n",
    "\n",
    "# ini turunan\n",
    "class SD(School):\n",
    "    pass"
   ]
  },
  {
   "cell_type": "markdown",
   "metadata": {},
   "source": [
    "### Polymorphism\n",
    "Dalam Python, *polimorfisme* mengacu pada cara kelas objek yang berbeda dapat berbagi nama metode yang sama, dan metode tersebut dapat dipanggil dari tempat yang sama meskipun berbagai objek yang berbeda mungkin dilewatkan."
   ]
  },
  {
   "cell_type": "code",
   "execution_count": null,
   "metadata": {},
   "outputs": [],
   "source": [
    "class Dog:\n",
    "    def __init__(self, name):\n",
    "        self.name = name\n",
    "\n",
    "    def speak(self):\n",
    "        return self.name+' auuuuuu'\n",
    "    \n",
    "class Cat:\n",
    "    def __init__(self, name):\n",
    "        self.name = name\n",
    "\n",
    "    def speak(self):\n",
    "        return self.name+' miauuu' "
   ]
  }
 ],
 "metadata": {
  "language_info": {
   "name": "python"
  },
  "orig_nbformat": 4
 },
 "nbformat": 4,
 "nbformat_minor": 2
}
