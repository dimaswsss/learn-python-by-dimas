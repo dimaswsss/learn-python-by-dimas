{
 "cells": [
  {
   "cell_type": "markdown",
   "metadata": {},
   "source": [
    "# Object Oriented"
   ]
  },
  {
   "cell_type": "markdown",
   "metadata": {},
   "source": [
    "### Class"
   ]
  },
  {
   "cell_type": "markdown",
   "metadata": {},
   "source": [
    "- kita menggunakan def untuk mendefinisikan fungsi, dan class untuk mendefinisikan kelas.\n",
    "- Jadi, apa itu class?"
   ]
  },
  {
   "cell_type": "markdown",
   "metadata": {},
   "source": [
    "![class](class.png)"
   ]
  },
  {
   "cell_type": "markdown",
   "metadata": {},
   "source": [
    "**class** merupakan sebuah blueprint (cetakan) dari objek (atau instance) yang ingin kita buat.\n",
    "\n",
    "Kelas adalah cetakannya atau definisinya, sedangkan objek (atau instance) adalah objek nyatanya."
   ]
  },
  {
   "cell_type": "markdown",
   "metadata": {},
   "source": [
    "### Atribut dan Perilaku"
   ]
  },
  {
   "cell_type": "markdown",
   "metadata": {},
   "source": [
    "Atribut -> variabel yang dimiliki objek.\n",
    "\n",
    "Perilaku -> metode, atau fungsi yang dimiliki objek."
   ]
  },
  {
   "cell_type": "markdown",
   "metadata": {},
   "source": [
    "### self"
   ]
  },
  {
   "cell_type": "markdown",
   "metadata": {},
   "source": [
    "Didalam pemrograman berbasis objek, ketika kita mendefinisikan sebuah method untuk sebuah class, kita diharuskan untuk membuat self sebagai parameter pertama.\n",
    "\n",
    "class itu hanyalah sebuah template, self memungkinkan kita untuk mengakses ke atribut dan method pada setiap objek yang dibuat. Inilah yang membuat setiap objek memiliki atribut dan method nya masing - masing."
   ]
  },
  {
   "cell_type": "markdown",
   "metadata": {},
   "source": [
    "### Konstruktor\n",
    "Konstruktor adalah sebuah fungsi yang akan dipanggil pertama kali saat sebuah objek di-instantiasi-kan."
   ]
  },
  {
   "cell_type": "markdown",
   "metadata": {},
   "source": [
    "Fungsi tersebut harus selalu bernama __init__()."
   ]
  },
  {
   "cell_type": "code",
   "execution_count": null,
   "metadata": {},
   "outputs": [],
   "source": [
    "def __init__(self, param1, param2):\n",
    "    pass"
   ]
  },
  {
   "cell_type": "markdown",
   "metadata": {},
   "source": [
    "Ketika membuat instance dari kelas, kita harus melemparkan parameter wajib yang sudah dibuat pada __init__()"
   ]
  },
  {
   "cell_type": "markdown",
   "metadata": {},
   "source": [
    "### Instance dari Suatu Kelas\n",
    "Dari segi penulisan, sama saja seperti cara penulisan variabel."
   ]
  },
  {
   "cell_type": "code",
   "execution_count": null,
   "metadata": {},
   "outputs": [],
   "source": [
    "x = nama_class() # membuat instance"
   ]
  }
 ],
 "metadata": {
  "language_info": {
   "name": "python"
  },
  "orig_nbformat": 4
 },
 "nbformat": 4,
 "nbformat_minor": 2
}
